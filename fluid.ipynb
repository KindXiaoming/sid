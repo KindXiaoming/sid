{
 "cells": [
  {
   "cell_type": "code",
   "execution_count": null,
   "id": "abc5c602",
   "metadata": {},
   "outputs": [],
   "source": [
    "import autograd.numpy as np\n",
    "from autograd import grad, jacobian\n",
    "from scipy.optimize import minimize\n",
    "import copy\n",
    "from model import create_ploy_basis_file, find_cq\n",
    "import matplotlib.pyplot as plt\n",
    "\n",
    "plt.rcParams[\"font.family\"] = \"Times New Roman\"\n",
    "\n",
    "np.random.seed(1)\n",
    "\n",
    "dimension = 12\n",
    "\n",
    "# specify x\n",
    "num_points = 5000\n",
    "x = np.random.normal(0,1,(dimension,num_points))\n",
    "\n",
    "# load basis file\n",
    "create_ploy_basis_file(orders=[1,2,3,4], num_variable=dimension, path=\"./basis.txt\")\n",
    "bases = np.loadtxt('./basis.txt', dtype='str')\n",
    "\n",
    "\n",
    "def f(x):\n",
    "    \n",
    "    xdot = np.zeros((dimension, x.shape[1]))\n",
    "    \n",
    "    lamda=((x[1]*x[7]-x[5]*x[3])+(x[5]*x[11]-x[9]*x[7])+(x[9]*x[3]-x[1]*x[11]))/((x[0]*x[4]+x[4]*x[8]+x[8]*x[0]+x[2]*x[6]+x[6]*x[10]+x[10]*x[2])-(x[0]**2+x[2]**2+x[4]**2+x[6]**2+x[8]**2+x[10]**2));\n",
    "\n",
    "    xdot[0]=x[1];\n",
    "    xdot[1]=lamda*(x[6]-x[10]);\n",
    "    xdot[2]=x[3];\n",
    "    xdot[3]=lamda*(x[8]-x[4]);\n",
    "    xdot[4]=x[5];\n",
    "    xdot[5]=lamda*(x[10]-x[2]);\n",
    "    xdot[6]=x[7];\n",
    "    xdot[7]=lamda*(x[0]-x[8]);\n",
    "    xdot[8]=x[9];\n",
    "    xdot[9]=lamda*(x[2]-x[6]);\n",
    "    xdot[10]=x[11];\n",
    "    xdot[11]=lamda*(x[4]-x[0]);\n",
    "\n",
    "    xdot = xdot/np.linalg.norm(xdot, axis=0)[np.newaxis, :]\n",
    "    return xdot\n",
    "\n",
    "\n",
    "def get_data(num_points):\n",
    "    x = np.random.normal(0,1,(dimension, num_points))\n",
    "    x[11] = -(x[1]*(x[6] - x[10]) + (-x[4] + x[8])*x[3] + x[5]*(x[10] - x[2]) + x[7]*(x[0] - x[8]) + x[9]*(x[2] - x[6]))/(-x[0] + x[4]);\n",
    "    return x\n",
    "\n",
    "x = get_data(num_points)\n",
    "\n"
   ]
  },
  {
   "cell_type": "code",
   "execution_count": null,
   "id": "64c4d219",
   "metadata": {},
   "outputs": [],
   "source": [
    "tol_cq = 1e-14\n",
    "tol_dep = 1e-4\n",
    "results = find_cq(f, x, bases, tol_cq=tol_cq, tol_dep=tol_dep, sparse_run=1, max_iter=0)"
   ]
  },
  {
   "cell_type": "code",
   "execution_count": null,
   "id": "c3191305",
   "metadata": {},
   "outputs": [],
   "source": [
    "s_cq = results['s_cq'][::-1]\n",
    "n_cq_dep = np.sum(s_cq<tol_cq)\n",
    "plt.plot(np.arange(s_cq.shape[0])+1,s_cq,marker=\"o\")\n",
    "plt.plot([1, s_cq.shape[0]+1],[tol_cq, tol_cq], ls=\"--\",color=\"red\")\n",
    "#plt.plot([1, s_cq.shape[0]+1],[tol_cq*0.1, tol_cq*0.1], ls=\"--\",color=\"green\")\n",
    "plt.text(5,1e-16,r\"$M=$\"+\"{}\".format(n_cq_dep),fontsize=15,color=\"red\")\n",
    "plt.yscale('log')\n",
    "#plt.xticks(np.arange(s_cq.shape[0])+1);\n",
    "plt.xlabel('index '+r\"$i$\", fontsize=15)\n",
    "plt.ylabel('singulvar value '+r\"$\\sigma_i$\", fontsize=15)"
   ]
  },
  {
   "cell_type": "code",
   "execution_count": null,
   "id": "010d57d7",
   "metadata": {},
   "outputs": [],
   "source": [
    "S = results['s_cq_independent']\n",
    "n_cq_indep = np.sum(np.mean(S, axis=0)>tol_dep)\n",
    "plt.plot(np.arange(S.shape[1])+1,np.mean(S, axis=0),marker=\"o\")\n",
    "plt.plot([1, S.shape[1]],[tol_dep, tol_dep], ls=\"--\",color=\"red\")\n",
    "plt.text(2.5,1e-1,r\"$c=$\"+\"{}\".format(n_cq_indep),fontsize=15,color=\"red\")\n",
    "plt.yscale('log')\n",
    "plt.xticks(np.arange(S.shape[1])+1);\n",
    "plt.xlabel('index '+r\"$i$\", fontsize=15)\n",
    "plt.ylabel('singulvar value '+r\"$s_i$\", fontsize=15)"
   ]
  },
  {
   "cell_type": "code",
   "execution_count": null,
   "id": "818af8fd",
   "metadata": {},
   "outputs": [],
   "source": [
    "plt.figure(figsize=(11,2.5))\n",
    "\n",
    "plt.subplot(1,2,1)\n",
    "\n",
    "s_cq = results['s_cq'][::-1]\n",
    "plt.plot(np.arange(s_cq.shape[0])+1,s_cq,marker=\"o\")\n",
    "plt.plot([1, s_cq.shape[0]+1],[tol_cq, tol_cq], ls=\"--\",color=\"red\")\n",
    "plt.text(2,1e-16,r\"$M=$\"+\"{}\".format(n_cq_dep)+\" CQs (possibly dependent)\",fontsize=15,color=\"red\")\n",
    "plt.yscale('log')\n",
    "#plt.xticks(np.arange(s_cq.shape[0])+1);\n",
    "#plt.xlabel('index '+r\"$i$\", fontsize=15)\n",
    "plt.ylabel('singulvar value '+r\"$\\sigma_i$\", fontsize=15)\n",
    "plt.xlabel('index '+r\"$i$\", fontsize=15)\n",
    "\n",
    "plt.subplot(1,2,2)\n",
    "S = results['s_cq_independent']\n",
    "plt.plot(np.arange(S.shape[1])+1,np.mean(S, axis=0),marker=\"o\")\n",
    "plt.plot([1, S.shape[1]],[tol_dep, tol_dep], ls=\"--\",color=\"red\")\n",
    "plt.text(1.2,1e-3,r\"$c=$\"+\"{}\".format(n_cq_indep)+\" CQs (independent)\",fontsize=15,color=\"red\")\n",
    "plt.yscale('log')\n",
    "plt.xticks(np.arange(S.shape[1])+1);\n",
    "plt.xlabel('index '+r\"$i$\", fontsize=15)\n",
    "plt.ylabel('singulvar value '+r\"$s_i$\", fontsize=15)\n",
    "\n",
    "plt.suptitle('2D fluid: up to 4th order polynomials', fontsize=15, y=1.05)\n",
    "\n",
    "plt.savefig('./fig/fluid_2D_4poly_sv.pdf', bbox_inches=\"tight\")"
   ]
  },
  {
   "cell_type": "code",
   "execution_count": null,
   "id": "c15316d4",
   "metadata": {},
   "outputs": [],
   "source": [
    "sols = results['sol_cq_independent']\n",
    "plt.yticks(np.arange(n_cq_indep),np.arange(n_cq_indep)+1)\n",
    "\n",
    "#plt.set_title(r'$\\Theta^{(3)}$',fontsize=15)\n",
    "plt.xlabel(\"basis\",fontsize=12)\n",
    "plt.ylabel(\"CQ\",fontsize=12)\n",
    "#plt.xticks(np.arange(11), ticks)\n",
    "im = plt.imshow(sols, vmin=-1, vmax=1, aspect=4)\n",
    "plt.colorbar(fraction=0.017, pad=0.04)\n",
    "#plt.savefig('./fig/fluid_2D_CQ.pdf', bbox_inches=\"tight\")"
   ]
  },
  {
   "cell_type": "code",
   "execution_count": null,
   "id": "02cd07ea",
   "metadata": {},
   "outputs": [],
   "source": []
  }
 ],
 "metadata": {
  "kernelspec": {
   "display_name": "Python 3 (ipykernel)",
   "language": "python",
   "name": "python3"
  },
  "language_info": {
   "codemirror_mode": {
    "name": "ipython",
    "version": 3
   },
   "file_extension": ".py",
   "mimetype": "text/x-python",
   "name": "python",
   "nbconvert_exporter": "python",
   "pygments_lexer": "ipython3",
   "version": "3.9.7"
  }
 },
 "nbformat": 4,
 "nbformat_minor": 5
}
